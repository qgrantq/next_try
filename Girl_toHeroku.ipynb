{
  "nbformat": 4,
  "nbformat_minor": 0,
  "metadata": {
    "colab": {
      "name": "Girl_toHeroku.ipynb",
      "provenance": [],
      "collapsed_sections": [],
      "mount_file_id": "1s41qCl7UKiKayDSnE2KzHJ2brXPiwKl8",
      "authorship_tag": "ABX9TyP+hqn3fdQ1Yo2h3jFEVJm1",
      "include_colab_link": true
    },
    "kernelspec": {
      "name": "python3",
      "display_name": "Python 3"
    },
    "language_info": {
      "name": "python"
    },
    "accelerator": "GPU",
    "gpuClass": "standard",
    "widgets": {
      "application/vnd.jupyter.widget-state+json": {
        "85fe2e9a5e724c5aa6278e1df30a6f35": {
          "model_module": "@jupyter-widgets/controls",
          "model_name": "VBoxModel",
          "model_module_version": "1.5.0",
          "state": {
            "_dom_classes": [],
            "_model_module": "@jupyter-widgets/controls",
            "_model_module_version": "1.5.0",
            "_model_name": "VBoxModel",
            "_view_count": null,
            "_view_module": "@jupyter-widgets/controls",
            "_view_module_version": "1.5.0",
            "_view_name": "VBoxView",
            "box_style": "",
            "children": [
              "IPY_MODEL_15d10eb40d48487d9818dd474d41ad9a",
              "IPY_MODEL_e002d1e371cd46a5a4b8e35800c69d48",
              "IPY_MODEL_c7eb62b774684e2b8201e433c5da887c",
              "IPY_MODEL_1622813c08aa4d10882c6d11e1fd09f0",
              "IPY_MODEL_0e6de04d691f4385abc17924504cb559"
            ],
            "layout": "IPY_MODEL_aeb8331e8b684f8da9f9b5e4be54490c"
          }
        },
        "15d10eb40d48487d9818dd474d41ad9a": {
          "model_module": "@jupyter-widgets/controls",
          "model_name": "LabelModel",
          "model_module_version": "1.5.0",
          "state": {
            "_dom_classes": [],
            "_model_module": "@jupyter-widgets/controls",
            "_model_module_version": "1.5.0",
            "_model_name": "LabelModel",
            "_view_count": null,
            "_view_module": "@jupyter-widgets/controls",
            "_view_module_version": "1.5.0",
            "_view_name": "LabelView",
            "description": "",
            "description_tooltip": null,
            "layout": "IPY_MODEL_26d7cdbb428c44a495e68cd7141ec4b8",
            "placeholder": "​",
            "style": "IPY_MODEL_36c42d3579574bafbb24490b3c9e06ba",
            "value": "Select your girl!"
          }
        },
        "e002d1e371cd46a5a4b8e35800c69d48": {
          "model_module": "@jupyter-widgets/controls",
          "model_name": "FileUploadModel",
          "model_module_version": "1.5.0",
          "state": {
            "_counter": 1,
            "_dom_classes": [],
            "_model_module": "@jupyter-widgets/controls",
            "_model_module_version": "1.5.0",
            "_model_name": "FileUploadModel",
            "_view_count": null,
            "_view_module": "@jupyter-widgets/controls",
            "_view_module_version": "1.5.0",
            "_view_name": "FileUploadView",
            "accept": "",
            "button_style": "",
            "data": [
              null
            ],
            "description": "Upload",
            "description_tooltip": null,
            "disabled": false,
            "error": "",
            "icon": "upload",
            "layout": "IPY_MODEL_71eaaa6edb744825b91b0a16b71d8066",
            "metadata": [
              {
                "name": "ag3.jpg",
                "type": "image/jpeg",
                "size": 4972,
                "lastModified": 1657009473220
              }
            ],
            "multiple": false,
            "style": "IPY_MODEL_d17324113f3e42cc9b42b5002d6396cc"
          }
        },
        "c7eb62b774684e2b8201e433c5da887c": {
          "model_module": "@jupyter-widgets/controls",
          "model_name": "ButtonModel",
          "model_module_version": "1.5.0",
          "state": {
            "_dom_classes": [],
            "_model_module": "@jupyter-widgets/controls",
            "_model_module_version": "1.5.0",
            "_model_name": "ButtonModel",
            "_view_count": null,
            "_view_module": "@jupyter-widgets/controls",
            "_view_module_version": "1.5.0",
            "_view_name": "ButtonView",
            "button_style": "",
            "description": "Classify",
            "disabled": false,
            "icon": "",
            "layout": "IPY_MODEL_1279e9255ba24c4d9550cb1396e1f45f",
            "style": "IPY_MODEL_45514eafbe8a4016baed4e3c9004c1c2",
            "tooltip": ""
          }
        },
        "1622813c08aa4d10882c6d11e1fd09f0": {
          "model_module": "@jupyter-widgets/output",
          "model_name": "OutputModel",
          "model_module_version": "1.0.0",
          "state": {
            "_dom_classes": [],
            "_model_module": "@jupyter-widgets/output",
            "_model_module_version": "1.0.0",
            "_model_name": "OutputModel",
            "_view_count": null,
            "_view_module": "@jupyter-widgets/output",
            "_view_module_version": "1.0.0",
            "_view_name": "OutputView",
            "layout": "IPY_MODEL_40313352d178420d89b8137a8c7182c8",
            "msg_id": "",
            "outputs": [
              {
                "output_type": "display_data",
                "data": {
                  "text/plain": "<PIL.Image.Image image mode=RGB size=128x85 at 0x7F844E13D390>",
                  "image/png": "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\n"
                },
                "metadata": {}
              }
            ]
          }
        },
        "0e6de04d691f4385abc17924504cb559": {
          "model_module": "@jupyter-widgets/controls",
          "model_name": "LabelModel",
          "model_module_version": "1.5.0",
          "state": {
            "_dom_classes": [],
            "_model_module": "@jupyter-widgets/controls",
            "_model_module_version": "1.5.0",
            "_model_name": "LabelModel",
            "_view_count": null,
            "_view_module": "@jupyter-widgets/controls",
            "_view_module_version": "1.5.0",
            "_view_name": "LabelView",
            "description": "",
            "description_tooltip": null,
            "layout": "IPY_MODEL_9695665ca46f44a986fe43e84a2ecddc",
            "placeholder": "​",
            "style": "IPY_MODEL_80b9ec442f9b46e0938f2e1a1bde0dec",
            "value": "Prediction: african; Probability: 0.8656"
          }
        },
        "aeb8331e8b684f8da9f9b5e4be54490c": {
          "model_module": "@jupyter-widgets/base",
          "model_name": "LayoutModel",
          "model_module_version": "1.2.0",
          "state": {
            "_model_module": "@jupyter-widgets/base",
            "_model_module_version": "1.2.0",
            "_model_name": "LayoutModel",
            "_view_count": null,
            "_view_module": "@jupyter-widgets/base",
            "_view_module_version": "1.2.0",
            "_view_name": "LayoutView",
            "align_content": null,
            "align_items": null,
            "align_self": null,
            "border": null,
            "bottom": null,
            "display": null,
            "flex": null,
            "flex_flow": null,
            "grid_area": null,
            "grid_auto_columns": null,
            "grid_auto_flow": null,
            "grid_auto_rows": null,
            "grid_column": null,
            "grid_gap": null,
            "grid_row": null,
            "grid_template_areas": null,
            "grid_template_columns": null,
            "grid_template_rows": null,
            "height": null,
            "justify_content": null,
            "justify_items": null,
            "left": null,
            "margin": null,
            "max_height": null,
            "max_width": null,
            "min_height": null,
            "min_width": null,
            "object_fit": null,
            "object_position": null,
            "order": null,
            "overflow": null,
            "overflow_x": null,
            "overflow_y": null,
            "padding": null,
            "right": null,
            "top": null,
            "visibility": null,
            "width": null
          }
        },
        "26d7cdbb428c44a495e68cd7141ec4b8": {
          "model_module": "@jupyter-widgets/base",
          "model_name": "LayoutModel",
          "model_module_version": "1.2.0",
          "state": {
            "_model_module": "@jupyter-widgets/base",
            "_model_module_version": "1.2.0",
            "_model_name": "LayoutModel",
            "_view_count": null,
            "_view_module": "@jupyter-widgets/base",
            "_view_module_version": "1.2.0",
            "_view_name": "LayoutView",
            "align_content": null,
            "align_items": null,
            "align_self": null,
            "border": null,
            "bottom": null,
            "display": null,
            "flex": null,
            "flex_flow": null,
            "grid_area": null,
            "grid_auto_columns": null,
            "grid_auto_flow": null,
            "grid_auto_rows": null,
            "grid_column": null,
            "grid_gap": null,
            "grid_row": null,
            "grid_template_areas": null,
            "grid_template_columns": null,
            "grid_template_rows": null,
            "height": null,
            "justify_content": null,
            "justify_items": null,
            "left": null,
            "margin": null,
            "max_height": null,
            "max_width": null,
            "min_height": null,
            "min_width": null,
            "object_fit": null,
            "object_position": null,
            "order": null,
            "overflow": null,
            "overflow_x": null,
            "overflow_y": null,
            "padding": null,
            "right": null,
            "top": null,
            "visibility": null,
            "width": null
          }
        },
        "36c42d3579574bafbb24490b3c9e06ba": {
          "model_module": "@jupyter-widgets/controls",
          "model_name": "DescriptionStyleModel",
          "model_module_version": "1.5.0",
          "state": {
            "_model_module": "@jupyter-widgets/controls",
            "_model_module_version": "1.5.0",
            "_model_name": "DescriptionStyleModel",
            "_view_count": null,
            "_view_module": "@jupyter-widgets/base",
            "_view_module_version": "1.2.0",
            "_view_name": "StyleView",
            "description_width": ""
          }
        },
        "71eaaa6edb744825b91b0a16b71d8066": {
          "model_module": "@jupyter-widgets/base",
          "model_name": "LayoutModel",
          "model_module_version": "1.2.0",
          "state": {
            "_model_module": "@jupyter-widgets/base",
            "_model_module_version": "1.2.0",
            "_model_name": "LayoutModel",
            "_view_count": null,
            "_view_module": "@jupyter-widgets/base",
            "_view_module_version": "1.2.0",
            "_view_name": "LayoutView",
            "align_content": null,
            "align_items": null,
            "align_self": null,
            "border": null,
            "bottom": null,
            "display": null,
            "flex": null,
            "flex_flow": null,
            "grid_area": null,
            "grid_auto_columns": null,
            "grid_auto_flow": null,
            "grid_auto_rows": null,
            "grid_column": null,
            "grid_gap": null,
            "grid_row": null,
            "grid_template_areas": null,
            "grid_template_columns": null,
            "grid_template_rows": null,
            "height": null,
            "justify_content": null,
            "justify_items": null,
            "left": null,
            "margin": null,
            "max_height": null,
            "max_width": null,
            "min_height": null,
            "min_width": null,
            "object_fit": null,
            "object_position": null,
            "order": null,
            "overflow": null,
            "overflow_x": null,
            "overflow_y": null,
            "padding": null,
            "right": null,
            "top": null,
            "visibility": null,
            "width": null
          }
        },
        "d17324113f3e42cc9b42b5002d6396cc": {
          "model_module": "@jupyter-widgets/controls",
          "model_name": "ButtonStyleModel",
          "model_module_version": "1.5.0",
          "state": {
            "_model_module": "@jupyter-widgets/controls",
            "_model_module_version": "1.5.0",
            "_model_name": "ButtonStyleModel",
            "_view_count": null,
            "_view_module": "@jupyter-widgets/base",
            "_view_module_version": "1.2.0",
            "_view_name": "StyleView",
            "button_color": null,
            "font_weight": ""
          }
        },
        "1279e9255ba24c4d9550cb1396e1f45f": {
          "model_module": "@jupyter-widgets/base",
          "model_name": "LayoutModel",
          "model_module_version": "1.2.0",
          "state": {
            "_model_module": "@jupyter-widgets/base",
            "_model_module_version": "1.2.0",
            "_model_name": "LayoutModel",
            "_view_count": null,
            "_view_module": "@jupyter-widgets/base",
            "_view_module_version": "1.2.0",
            "_view_name": "LayoutView",
            "align_content": null,
            "align_items": null,
            "align_self": null,
            "border": null,
            "bottom": null,
            "display": null,
            "flex": null,
            "flex_flow": null,
            "grid_area": null,
            "grid_auto_columns": null,
            "grid_auto_flow": null,
            "grid_auto_rows": null,
            "grid_column": null,
            "grid_gap": null,
            "grid_row": null,
            "grid_template_areas": null,
            "grid_template_columns": null,
            "grid_template_rows": null,
            "height": null,
            "justify_content": null,
            "justify_items": null,
            "left": null,
            "margin": null,
            "max_height": null,
            "max_width": null,
            "min_height": null,
            "min_width": null,
            "object_fit": null,
            "object_position": null,
            "order": null,
            "overflow": null,
            "overflow_x": null,
            "overflow_y": null,
            "padding": null,
            "right": null,
            "top": null,
            "visibility": null,
            "width": null
          }
        },
        "45514eafbe8a4016baed4e3c9004c1c2": {
          "model_module": "@jupyter-widgets/controls",
          "model_name": "ButtonStyleModel",
          "model_module_version": "1.5.0",
          "state": {
            "_model_module": "@jupyter-widgets/controls",
            "_model_module_version": "1.5.0",
            "_model_name": "ButtonStyleModel",
            "_view_count": null,
            "_view_module": "@jupyter-widgets/base",
            "_view_module_version": "1.2.0",
            "_view_name": "StyleView",
            "button_color": null,
            "font_weight": ""
          }
        },
        "9695665ca46f44a986fe43e84a2ecddc": {
          "model_module": "@jupyter-widgets/base",
          "model_name": "LayoutModel",
          "model_module_version": "1.2.0",
          "state": {
            "_model_module": "@jupyter-widgets/base",
            "_model_module_version": "1.2.0",
            "_model_name": "LayoutModel",
            "_view_count": null,
            "_view_module": "@jupyter-widgets/base",
            "_view_module_version": "1.2.0",
            "_view_name": "LayoutView",
            "align_content": null,
            "align_items": null,
            "align_self": null,
            "border": null,
            "bottom": null,
            "display": null,
            "flex": null,
            "flex_flow": null,
            "grid_area": null,
            "grid_auto_columns": null,
            "grid_auto_flow": null,
            "grid_auto_rows": null,
            "grid_column": null,
            "grid_gap": null,
            "grid_row": null,
            "grid_template_areas": null,
            "grid_template_columns": null,
            "grid_template_rows": null,
            "height": null,
            "justify_content": null,
            "justify_items": null,
            "left": null,
            "margin": null,
            "max_height": null,
            "max_width": null,
            "min_height": null,
            "min_width": null,
            "object_fit": null,
            "object_position": null,
            "order": null,
            "overflow": null,
            "overflow_x": null,
            "overflow_y": null,
            "padding": null,
            "right": null,
            "top": null,
            "visibility": null,
            "width": null
          }
        },
        "80b9ec442f9b46e0938f2e1a1bde0dec": {
          "model_module": "@jupyter-widgets/controls",
          "model_name": "DescriptionStyleModel",
          "model_module_version": "1.5.0",
          "state": {
            "_model_module": "@jupyter-widgets/controls",
            "_model_module_version": "1.5.0",
            "_model_name": "DescriptionStyleModel",
            "_view_count": null,
            "_view_module": "@jupyter-widgets/base",
            "_view_module_version": "1.2.0",
            "_view_name": "StyleView",
            "description_width": ""
          }
        },
        "40313352d178420d89b8137a8c7182c8": {
          "model_module": "@jupyter-widgets/base",
          "model_name": "LayoutModel",
          "model_module_version": "1.2.0",
          "state": {
            "_model_module": "@jupyter-widgets/base",
            "_model_module_version": "1.2.0",
            "_model_name": "LayoutModel",
            "_view_count": null,
            "_view_module": "@jupyter-widgets/base",
            "_view_module_version": "1.2.0",
            "_view_name": "LayoutView",
            "align_content": null,
            "align_items": null,
            "align_self": null,
            "border": null,
            "bottom": null,
            "display": null,
            "flex": null,
            "flex_flow": null,
            "grid_area": null,
            "grid_auto_columns": null,
            "grid_auto_flow": null,
            "grid_auto_rows": null,
            "grid_column": null,
            "grid_gap": null,
            "grid_row": null,
            "grid_template_areas": null,
            "grid_template_columns": null,
            "grid_template_rows": null,
            "height": null,
            "justify_content": null,
            "justify_items": null,
            "left": null,
            "margin": null,
            "max_height": null,
            "max_width": null,
            "min_height": null,
            "min_width": null,
            "object_fit": null,
            "object_position": null,
            "order": null,
            "overflow": null,
            "overflow_x": null,
            "overflow_y": null,
            "padding": null,
            "right": null,
            "top": null,
            "visibility": null,
            "width": null
          }
        }
      }
    }
  },
  "cells": [
    {
      "cell_type": "markdown",
      "metadata": {
        "id": "view-in-github",
        "colab_type": "text"
      },
      "source": [
        "<a href=\"https://colab.research.google.com/github/qgrantq/next_try/blob/main/Girl_toHeroku.ipynb\" target=\"_parent\"><img src=\"https://colab.research.google.com/assets/colab-badge.svg\" alt=\"Open In Colab\"/></a>"
      ]
    },
    {
      "cell_type": "code",
      "execution_count": null,
      "metadata": {
        "id": "AguHQAIhluWg"
      },
      "outputs": [],
      "source": [
        "#!pip install voila\n",
        "#!jupyter serverextension enable --sys-prefix voila"
      ]
    },
    {
      "cell_type": "code",
      "source": [
        "#! [ -e /content ] && pip install -Uqq fastbook\n",
        "import fastbook\n",
        "fastbook.setup_book()"
      ],
      "metadata": {
        "id": "k_KQQD76nmoo"
      },
      "execution_count": null,
      "outputs": []
    },
    {
      "cell_type": "code",
      "source": [
        "#! pip install torch==1.12.0+cpu\n",
        "#! pip install torchvision==1.12.0+cpu\n",
        "#! pip install fastai>=2.0.0"
      ],
      "metadata": {
        "id": "VNqZBPBNOQIR"
      },
      "execution_count": null,
      "outputs": []
    },
    {
      "cell_type": "code",
      "source": [
        "import torch\n",
        "import torchvision"
      ],
      "metadata": {
        "id": "WptNwj1vRfxk"
      },
      "execution_count": 6,
      "outputs": []
    },
    {
      "cell_type": "code",
      "source": [
        "#print(\"Torch\", torch.__version__)\n",
        "#print(\"Torchvision\", torchvision.__version__)"
      ],
      "metadata": {
        "id": "CoLNrEoIP8wE"
      },
      "execution_count": null,
      "outputs": []
    },
    {
      "cell_type": "code",
      "source": [
        "from fastai.vision.all import *\n",
        "from fastai.vision.widgets import *\n",
        "import urllib.request"
      ],
      "metadata": {
        "id": "9M_R5sQOnp8N"
      },
      "execution_count": 8,
      "outputs": []
    },
    {
      "cell_type": "code",
      "source": [
        "#path=Path()\n",
        "#learn_inf = load_learner(path/'export.pkl', cpu=True)\n",
        "#learn_inf = load_learner('sample_data/export.pkl', cpu=True)\n",
        "# for binder, path should not be required\n",
        "learn_inf = load_learner('export.pkl', cpu=True)"
      ],
      "metadata": {
        "id": "OP1rM_YznfO_"
      },
      "execution_count": 10,
      "outputs": []
    },
    {
      "cell_type": "code",
      "source": [
        "btn_upload = widgets.FileUpload()\n",
        "btn_run = widgets.Button(description='Classify')\n",
        "out_pl = widgets.Output()\n",
        "lbl_pred = widgets.Label()\n",
        "\n"
      ],
      "metadata": {
        "id": "soqVSr_vydd5"
      },
      "execution_count": 11,
      "outputs": []
    },
    {
      "cell_type": "code",
      "source": [
        "def on_click_classify(change):\n",
        "    img = PILImage.create(btn_upload.data[-1])\n",
        "    #out_pl = widgets.Output()\n",
        "    out_pl.clear_output()\n",
        "    with out_pl: display(img.to_thumb(128,128))\n",
        "    pred,pred_idx,probs = learn_inf.predict(img)\n",
        "    lbl_pred.value = f'Prediction: {pred}; Probability: {probs[pred_idx]:.04f}'\n",
        "\n",
        "\n",
        "btn_run.on_click(on_click_classify)\n"
      ],
      "metadata": {
        "id": "fzFYNh34rlTP"
      },
      "execution_count": 12,
      "outputs": []
    },
    {
      "cell_type": "code",
      "source": [
        "print(\"This program will classify images of girls as either african, chinese or european.\")"
      ],
      "metadata": {
        "colab": {
          "base_uri": "https://localhost:8080/"
        },
        "id": "4ev6Y0CNrLZP",
        "outputId": "3b2cc9d7-373b-4139-dbb5-b65d9e5312d6"
      },
      "execution_count": 14,
      "outputs": [
        {
          "output_type": "stream",
          "name": "stdout",
          "text": [
            "This program will classify images of girls as either african, chinese or european.\n"
          ]
        }
      ]
    },
    {
      "cell_type": "code",
      "source": [
        "print(\"Upload an image and press 'classify'. Although trained on many images, light skin and dark hair are likely to be classed as chinese, and light skin and blonde as european\")"
      ],
      "metadata": {
        "colab": {
          "base_uri": "https://localhost:8080/"
        },
        "id": "fCmLpoKJr7uR",
        "outputId": "4de73b34-097a-4c12-c712-b94518f0cd0c"
      },
      "execution_count": 15,
      "outputs": [
        {
          "output_type": "stream",
          "name": "stdout",
          "text": [
            "Upload an image and press 'classify'. Although trained on many images, light skin and dark hair are likely to be classed as chinese, and light skin and blonde as european\n"
          ]
        }
      ]
    },
    {
      "cell_type": "code",
      "source": [
        "VBox([widgets.Label('Select your girl!'), \n",
        "      btn_upload, btn_run, out_pl, lbl_pred])"
      ],
      "metadata": {
        "id": "uzUXNItur0Oo",
        "colab": {
          "base_uri": "https://localhost:8080/",
          "height": 230,
          "referenced_widgets": [
            "85fe2e9a5e724c5aa6278e1df30a6f35",
            "15d10eb40d48487d9818dd474d41ad9a",
            "e002d1e371cd46a5a4b8e35800c69d48",
            "c7eb62b774684e2b8201e433c5da887c",
            "1622813c08aa4d10882c6d11e1fd09f0",
            "0e6de04d691f4385abc17924504cb559",
            "aeb8331e8b684f8da9f9b5e4be54490c",
            "26d7cdbb428c44a495e68cd7141ec4b8",
            "36c42d3579574bafbb24490b3c9e06ba",
            "71eaaa6edb744825b91b0a16b71d8066",
            "d17324113f3e42cc9b42b5002d6396cc",
            "1279e9255ba24c4d9550cb1396e1f45f",
            "45514eafbe8a4016baed4e3c9004c1c2",
            "9695665ca46f44a986fe43e84a2ecddc",
            "80b9ec442f9b46e0938f2e1a1bde0dec",
            "40313352d178420d89b8137a8c7182c8"
          ]
        },
        "outputId": "e457f700-a97c-4144-f855-cfcf5637a289"
      },
      "execution_count": 13,
      "outputs": [
        {
          "output_type": "display_data",
          "data": {
            "text/plain": [
              "VBox(children=(Label(value='Select your girl!'), FileUpload(value={}, description='Upload'), Button(descriptio…"
            ],
            "application/vnd.jupyter.widget-view+json": {
              "version_major": 2,
              "version_minor": 0,
              "model_id": "85fe2e9a5e724c5aa6278e1df30a6f35"
            }
          },
          "metadata": {}
        },
        {
          "output_type": "display_data",
          "data": {
            "text/plain": [
              "<IPython.core.display.HTML object>"
            ],
            "text/html": [
              "\n",
              "<style>\n",
              "    /* Turns off some styling */\n",
              "    progress {\n",
              "        /* gets rid of default border in Firefox and Opera. */\n",
              "        border: none;\n",
              "        /* Needs to be in here for Safari polyfill so background images work as expected. */\n",
              "        background-size: auto;\n",
              "    }\n",
              "    progress:not([value]), progress:not([value])::-webkit-progress-bar {\n",
              "        background: repeating-linear-gradient(45deg, #7e7e7e, #7e7e7e 10px, #5c5c5c 10px, #5c5c5c 20px);\n",
              "    }\n",
              "    .progress-bar-interrupted, .progress-bar-interrupted::-webkit-progress-bar {\n",
              "        background: #F44336;\n",
              "    }\n",
              "</style>\n"
            ]
          },
          "metadata": {}
        },
        {
          "output_type": "display_data",
          "data": {
            "text/plain": [
              "<IPython.core.display.HTML object>"
            ],
            "text/html": [
              ""
            ]
          },
          "metadata": {}
        }
      ]
    }
  ]
}