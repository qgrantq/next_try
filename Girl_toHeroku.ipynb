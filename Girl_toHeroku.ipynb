{
  "nbformat": 4,
  "nbformat_minor": 0,
  "metadata": {
    "colab": {
      "name": "Girl_toHeroku.ipynb",
      "provenance": [],
      "collapsed_sections": [],
      "mount_file_id": "1s41qCl7UKiKayDSnE2KzHJ2brXPiwKl8",
      "authorship_tag": "ABX9TyPPqBAPP5bFXuJ1jJWkgiv0",
      "include_colab_link": true
    },
    "kernelspec": {
      "name": "python3",
      "display_name": "Python 3"
    },
    "language_info": {
      "name": "python"
    },
    "accelerator": "GPU",
    "gpuClass": "standard"
  },
  "cells": [
    {
      "cell_type": "markdown",
      "metadata": {
        "id": "view-in-github",
        "colab_type": "text"
      },
      "source": [
        "<a href=\"https://colab.research.google.com/github/qgrantq/next_try/blob/main/Girl_toHeroku.ipynb\" target=\"_parent\"><img src=\"https://colab.research.google.com/assets/colab-badge.svg\" alt=\"Open In Colab\"/></a>"
      ]
    },
    {
      "cell_type": "markdown",
      "source": [
        "To use binder, voila, jupyter serverextension, -e/content -Uqq fastbook go into requirements."
      ],
      "metadata": {
        "id": "ph8YbM1cql4v"
      }
    },
    {
      "cell_type": "code",
      "execution_count": null,
      "metadata": {
        "id": "AguHQAIhluWg"
      },
      "outputs": [],
      "source": [
        "#!pip install voila\n",
        "#!jupyter serverextension enable --sys-prefix voila"
      ]
    },
    {
      "cell_type": "code",
      "source": [
        "#! [ -e /content ] && pip install -Uqq fastbook\n",
        "import fastbook\n",
        "fastbook.setup_book()"
      ],
      "metadata": {
        "id": "k_KQQD76nmoo"
      },
      "execution_count": 1,
      "outputs": []
    },
    {
      "cell_type": "markdown",
      "source": [
        "torch and torchvision and fastai required when sending to heroku (but not binder).  With heroku, the filesize got too big."
      ],
      "metadata": {
        "id": "QQoiulIzrFii"
      }
    },
    {
      "cell_type": "code",
      "source": [
        "#! pip install torch==1.12.0+cpu\n",
        "#! pip install torchvision==1.12.0+cpu\n",
        "#! pip install fastai>=2.0.0"
      ],
      "metadata": {
        "id": "VNqZBPBNOQIR"
      },
      "execution_count": null,
      "outputs": []
    },
    {
      "cell_type": "code",
      "source": [
        "#import torch\n",
        "#import torchvision"
      ],
      "metadata": {
        "id": "WptNwj1vRfxk"
      },
      "execution_count": null,
      "outputs": []
    },
    {
      "cell_type": "code",
      "source": [
        "#print(\"Torch\", torch.__version__)\n",
        "#print(\"Torchvision\", torchvision.__version__)"
      ],
      "metadata": {
        "id": "CoLNrEoIP8wE"
      },
      "execution_count": null,
      "outputs": []
    },
    {
      "cell_type": "code",
      "source": [
        "from fastai.vision.all import *\n",
        "from fastai.vision.widgets import *\n",
        "import urllib.request"
      ],
      "metadata": {
        "id": "9M_R5sQOnp8N"
      },
      "execution_count": 2,
      "outputs": []
    },
    {
      "cell_type": "code",
      "source": [
        "#path=Path()\n",
        "#learn_inf = load_learner(path/'export.pkl', cpu=True)\n",
        "learn_inf = load_learner('sample_data/export.pkl', cpu=True)\n",
        "# for binder, path should not be required\n",
        "#learn_inf = load_learner('export.pkl', cpu=True)"
      ],
      "metadata": {
        "id": "OP1rM_YznfO_"
      },
      "execution_count": 3,
      "outputs": []
    },
    {
      "cell_type": "code",
      "source": [
        "btn_upload = widgets.FileUpload()\n",
        "btn_run = widgets.Button(description='Classify')\n",
        "out_pl = widgets.Output()\n",
        "lbl_pred = widgets.Label()\n",
        "\n"
      ],
      "metadata": {
        "id": "soqVSr_vydd5"
      },
      "execution_count": 4,
      "outputs": []
    },
    {
      "cell_type": "code",
      "source": [
        "def on_click_classify(change):\n",
        "    img = PILImage.create(btn_upload.data[-1])\n",
        "    #out_pl = widgets.Output()\n",
        "    out_pl.clear_output()\n",
        "    with out_pl: display(img.to_thumb(128,128))\n",
        "    pred,pred_idx,probs = learn_inf.predict(img)\n",
        "    lbl_pred.value = f'Prediction: {pred}; Probability: {probs[pred_idx]:.04f}'\n",
        "\n",
        "\n",
        "btn_run.on_click(on_click_classify)\n"
      ],
      "metadata": {
        "id": "fzFYNh34rlTP"
      },
      "execution_count": 5,
      "outputs": []
    },
    {
      "cell_type": "code",
      "source": [
        "print(\"This program will classify images of girls as either african, chinese or european.\")"
      ],
      "metadata": {
        "id": "4ev6Y0CNrLZP"
      },
      "execution_count": null,
      "outputs": []
    },
    {
      "cell_type": "code",
      "source": [
        "print(\"Upload an image and press 'classify'. Although trained on many images, light skin and dark hair are likely to be classed as chinese, and light skin and blonde as european\")"
      ],
      "metadata": {
        "id": "fCmLpoKJr7uR"
      },
      "execution_count": null,
      "outputs": []
    },
    {
      "cell_type": "code",
      "source": [
        "VBox([widgets.Label('Select your girl!'), \n",
        "      btn_upload, btn_run, out_pl, lbl_pred])"
      ],
      "metadata": {
        "id": "uzUXNItur0Oo"
      },
      "execution_count": null,
      "outputs": []
    }
  ]
}